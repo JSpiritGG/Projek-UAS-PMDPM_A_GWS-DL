{
 "cells": [
  {
   "cell_type": "markdown",
   "id": "ea452c1d-6208-450b-84c1-3bec74a44f61",
   "metadata": {},
   "source": [
    "## **Import Library**"
   ]
  },
  {
   "cell_type": "code",
   "execution_count": 5,
   "id": "576de999-8228-4491-a66a-bea0985e38e8",
   "metadata": {},
   "outputs": [],
   "source": [
    "import tensorflow as tf\n",
    "from tensorflow.keras.preprocessing.image import ImageDataGenerator\n",
    "from tensorflow.keras.models import Sequential\n",
    "from tensorflow.keras.layers import Conv2D, MaxPooling2D, Flatten, Dense, Dropout, GlobalAveragePooling2D\n",
    "from tensorflow.keras.applications import VGG16, MobileNet\n",
    "import pandas as pd\n",
    "import matplotlib.pyplot as plt\n",
    "import numpy as np"
   ]
  },
  {
   "cell_type": "markdown",
   "id": "a7bc75d2-da51-4d8d-aaae-08b37f4bd505",
   "metadata": {},
   "source": [
    "## **Import Comet**\n"
   ]
  },
  {
   "cell_type": "code",
   "execution_count": 6,
   "id": "967caeeb-2066-4037-8806-e7d466f80a2c",
   "metadata": {},
   "outputs": [],
   "source": [
    "gpus = tf.config.experimental.list_physical_devices('GPU')\n",
    "if gpus:\n",
    "    try:\n",
    "        for gpu in gpus:\n",
    "            tf.config.experimental.set_memory_growth(gpu, True)\n",
    "    except RuntimeError as e:\n",
    "        print(e)"
   ]
  },
  {
   "cell_type": "code",
   "execution_count": 7,
   "id": "98618b4a-0c78-4023-9231-4e7868a0bbf2",
   "metadata": {},
   "outputs": [],
   "source": [
    "import comet_ml\n",
    "\n",
    "COMET_API_KEY = \"nQY73h08I0Be1j5MpjHYPFQQ4\"\n",
    "\n",
    "assert len(tf.config.list_physical_devices('GPU')) > 0\n",
    "assert COMET_API_KEY != \"\", \"Please insert your Comet API Key\""
   ]
  },
  {
   "cell_type": "code",
   "execution_count": null,
   "id": "6a53c04f-eeb3-4ca9-b2e1-d94eadf696c7",
   "metadata": {},
   "outputs": [],
   "source": []
  }
 ],
 "metadata": {
  "kernelspec": {
   "display_name": "Python for Deep Learning using Tensorflow",
   "language": "python",
   "name": "dltf"
  },
  "language_info": {
   "codemirror_mode": {
    "name": "ipython",
    "version": 3
   },
   "file_extension": ".py",
   "mimetype": "text/x-python",
   "name": "python",
   "nbconvert_exporter": "python",
   "pygments_lexer": "ipython3",
   "version": "3.12.6"
  }
 },
 "nbformat": 4,
 "nbformat_minor": 5
}
